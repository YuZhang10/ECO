{
 "cells": [
  {
   "cell_type": "code",
   "execution_count": 1,
   "metadata": {
    "collapsed": true
   },
   "outputs": [],
   "source": [
    "num=7\n",
    "main_path='D:/UAVTracking/ECO_testing_code/UAV/bad/%d/'%num"
   ]
  },
  {
   "cell_type": "code",
   "execution_count": 5,
   "metadata": {
    "collapsed": true
   },
   "outputs": [],
   "source": [
    "import json\n",
    "import numpy as np\n",
    "f=open('D:/UAVTracking/ECO_testing_code/night_2.6km_8_01_R_170410203219_5.json','r')\n",
    "temp=json.load(f)\n"
   ]
  },
  {
   "cell_type": "code",
   "execution_count": null,
   "metadata": {
    "collapsed": true
   },
   "outputs": [],
   "source": [
    "uav1=temp['1']['boxes']\n",
    "f=open(main_path+'groundtruth_rect.txt','w')\n",
    "for i in range(100*num,100*num+100):\n",
    "    im=uav1.get(str(i))\n",
    "    bbox=np.array([im['xtl'],im['ytl'],im['xbr']-im['xtl'],im['ybr']-im['ytl']])\n",
    "    bbox=bbox.reshape([1,4])\n",
    "    np.savetxt(f, bbox, fmt='%d')\n",
    "f.close()"
   ]
  },
  {
   "cell_type": "code",
   "execution_count": 6,
   "metadata": {},
   "outputs": [
    {
     "name": "stdout",
     "output_type": "stream",
     "text": [
      "D:/UAVTracking/ECO_testing_code/UAV/bad/7/img/700.jpg ======> D:/UAVTracking/ECO_testing_code/UAV/bad/7/img/0001.jpg\n",
      "D:/UAVTracking/ECO_testing_code/UAV/bad/7/img/701.jpg ======> D:/UAVTracking/ECO_testing_code/UAV/bad/7/img/0002.jpg\n",
      "D:/UAVTracking/ECO_testing_code/UAV/bad/7/img/702.jpg ======> D:/UAVTracking/ECO_testing_code/UAV/bad/7/img/0003.jpg\n",
      "D:/UAVTracking/ECO_testing_code/UAV/bad/7/img/703.jpg ======> D:/UAVTracking/ECO_testing_code/UAV/bad/7/img/0004.jpg\n",
      "D:/UAVTracking/ECO_testing_code/UAV/bad/7/img/704.jpg ======> D:/UAVTracking/ECO_testing_code/UAV/bad/7/img/0005.jpg\n",
      "D:/UAVTracking/ECO_testing_code/UAV/bad/7/img/705.jpg ======> D:/UAVTracking/ECO_testing_code/UAV/bad/7/img/0006.jpg\n",
      "D:/UAVTracking/ECO_testing_code/UAV/bad/7/img/706.jpg ======> D:/UAVTracking/ECO_testing_code/UAV/bad/7/img/0007.jpg\n",
      "D:/UAVTracking/ECO_testing_code/UAV/bad/7/img/707.jpg ======> D:/UAVTracking/ECO_testing_code/UAV/bad/7/img/0008.jpg\n",
      "D:/UAVTracking/ECO_testing_code/UAV/bad/7/img/708.jpg ======> D:/UAVTracking/ECO_testing_code/UAV/bad/7/img/0009.jpg\n",
      "D:/UAVTracking/ECO_testing_code/UAV/bad/7/img/709.jpg ======> D:/UAVTracking/ECO_testing_code/UAV/bad/7/img/0010.jpg\n",
      "D:/UAVTracking/ECO_testing_code/UAV/bad/7/img/710.jpg ======> D:/UAVTracking/ECO_testing_code/UAV/bad/7/img/0011.jpg\n",
      "D:/UAVTracking/ECO_testing_code/UAV/bad/7/img/711.jpg ======> D:/UAVTracking/ECO_testing_code/UAV/bad/7/img/0012.jpg\n",
      "D:/UAVTracking/ECO_testing_code/UAV/bad/7/img/712.jpg ======> D:/UAVTracking/ECO_testing_code/UAV/bad/7/img/0013.jpg\n",
      "D:/UAVTracking/ECO_testing_code/UAV/bad/7/img/713.jpg ======> D:/UAVTracking/ECO_testing_code/UAV/bad/7/img/0014.jpg\n",
      "D:/UAVTracking/ECO_testing_code/UAV/bad/7/img/714.jpg ======> D:/UAVTracking/ECO_testing_code/UAV/bad/7/img/0015.jpg\n",
      "D:/UAVTracking/ECO_testing_code/UAV/bad/7/img/715.jpg ======> D:/UAVTracking/ECO_testing_code/UAV/bad/7/img/0016.jpg\n",
      "D:/UAVTracking/ECO_testing_code/UAV/bad/7/img/716.jpg ======> D:/UAVTracking/ECO_testing_code/UAV/bad/7/img/0017.jpg\n",
      "D:/UAVTracking/ECO_testing_code/UAV/bad/7/img/717.jpg ======> D:/UAVTracking/ECO_testing_code/UAV/bad/7/img/0018.jpg\n",
      "D:/UAVTracking/ECO_testing_code/UAV/bad/7/img/718.jpg ======> D:/UAVTracking/ECO_testing_code/UAV/bad/7/img/0019.jpg\n",
      "D:/UAVTracking/ECO_testing_code/UAV/bad/7/img/719.jpg ======> D:/UAVTracking/ECO_testing_code/UAV/bad/7/img/0020.jpg\n",
      "D:/UAVTracking/ECO_testing_code/UAV/bad/7/img/720.jpg ======> D:/UAVTracking/ECO_testing_code/UAV/bad/7/img/0021.jpg\n",
      "D:/UAVTracking/ECO_testing_code/UAV/bad/7/img/721.jpg ======> D:/UAVTracking/ECO_testing_code/UAV/bad/7/img/0022.jpg\n",
      "D:/UAVTracking/ECO_testing_code/UAV/bad/7/img/722.jpg ======> D:/UAVTracking/ECO_testing_code/UAV/bad/7/img/0023.jpg\n",
      "D:/UAVTracking/ECO_testing_code/UAV/bad/7/img/723.jpg ======> D:/UAVTracking/ECO_testing_code/UAV/bad/7/img/0024.jpg\n",
      "D:/UAVTracking/ECO_testing_code/UAV/bad/7/img/724.jpg ======> D:/UAVTracking/ECO_testing_code/UAV/bad/7/img/0025.jpg\n",
      "D:/UAVTracking/ECO_testing_code/UAV/bad/7/img/725.jpg ======> D:/UAVTracking/ECO_testing_code/UAV/bad/7/img/0026.jpg\n",
      "D:/UAVTracking/ECO_testing_code/UAV/bad/7/img/726.jpg ======> D:/UAVTracking/ECO_testing_code/UAV/bad/7/img/0027.jpg\n",
      "D:/UAVTracking/ECO_testing_code/UAV/bad/7/img/727.jpg ======> D:/UAVTracking/ECO_testing_code/UAV/bad/7/img/0028.jpg\n",
      "D:/UAVTracking/ECO_testing_code/UAV/bad/7/img/728.jpg ======> D:/UAVTracking/ECO_testing_code/UAV/bad/7/img/0029.jpg\n",
      "D:/UAVTracking/ECO_testing_code/UAV/bad/7/img/729.jpg ======> D:/UAVTracking/ECO_testing_code/UAV/bad/7/img/0030.jpg\n",
      "D:/UAVTracking/ECO_testing_code/UAV/bad/7/img/730.jpg ======> D:/UAVTracking/ECO_testing_code/UAV/bad/7/img/0031.jpg\n",
      "D:/UAVTracking/ECO_testing_code/UAV/bad/7/img/731.jpg ======> D:/UAVTracking/ECO_testing_code/UAV/bad/7/img/0032.jpg\n",
      "D:/UAVTracking/ECO_testing_code/UAV/bad/7/img/732.jpg ======> D:/UAVTracking/ECO_testing_code/UAV/bad/7/img/0033.jpg\n",
      "D:/UAVTracking/ECO_testing_code/UAV/bad/7/img/733.jpg ======> D:/UAVTracking/ECO_testing_code/UAV/bad/7/img/0034.jpg\n",
      "D:/UAVTracking/ECO_testing_code/UAV/bad/7/img/734.jpg ======> D:/UAVTracking/ECO_testing_code/UAV/bad/7/img/0035.jpg\n",
      "D:/UAVTracking/ECO_testing_code/UAV/bad/7/img/735.jpg ======> D:/UAVTracking/ECO_testing_code/UAV/bad/7/img/0036.jpg\n",
      "D:/UAVTracking/ECO_testing_code/UAV/bad/7/img/736.jpg ======> D:/UAVTracking/ECO_testing_code/UAV/bad/7/img/0037.jpg\n",
      "D:/UAVTracking/ECO_testing_code/UAV/bad/7/img/737.jpg ======> D:/UAVTracking/ECO_testing_code/UAV/bad/7/img/0038.jpg\n",
      "D:/UAVTracking/ECO_testing_code/UAV/bad/7/img/738.jpg ======> D:/UAVTracking/ECO_testing_code/UAV/bad/7/img/0039.jpg\n",
      "D:/UAVTracking/ECO_testing_code/UAV/bad/7/img/739.jpg ======> D:/UAVTracking/ECO_testing_code/UAV/bad/7/img/0040.jpg\n",
      "D:/UAVTracking/ECO_testing_code/UAV/bad/7/img/740.jpg ======> D:/UAVTracking/ECO_testing_code/UAV/bad/7/img/0041.jpg\n",
      "D:/UAVTracking/ECO_testing_code/UAV/bad/7/img/741.jpg ======> D:/UAVTracking/ECO_testing_code/UAV/bad/7/img/0042.jpg\n",
      "D:/UAVTracking/ECO_testing_code/UAV/bad/7/img/742.jpg ======> D:/UAVTracking/ECO_testing_code/UAV/bad/7/img/0043.jpg\n",
      "D:/UAVTracking/ECO_testing_code/UAV/bad/7/img/743.jpg ======> D:/UAVTracking/ECO_testing_code/UAV/bad/7/img/0044.jpg\n",
      "D:/UAVTracking/ECO_testing_code/UAV/bad/7/img/744.jpg ======> D:/UAVTracking/ECO_testing_code/UAV/bad/7/img/0045.jpg\n",
      "D:/UAVTracking/ECO_testing_code/UAV/bad/7/img/745.jpg ======> D:/UAVTracking/ECO_testing_code/UAV/bad/7/img/0046.jpg\n",
      "D:/UAVTracking/ECO_testing_code/UAV/bad/7/img/746.jpg ======> D:/UAVTracking/ECO_testing_code/UAV/bad/7/img/0047.jpg\n",
      "D:/UAVTracking/ECO_testing_code/UAV/bad/7/img/747.jpg ======> D:/UAVTracking/ECO_testing_code/UAV/bad/7/img/0048.jpg\n",
      "D:/UAVTracking/ECO_testing_code/UAV/bad/7/img/748.jpg ======> D:/UAVTracking/ECO_testing_code/UAV/bad/7/img/0049.jpg\n",
      "D:/UAVTracking/ECO_testing_code/UAV/bad/7/img/749.jpg ======> D:/UAVTracking/ECO_testing_code/UAV/bad/7/img/0050.jpg\n",
      "D:/UAVTracking/ECO_testing_code/UAV/bad/7/img/750.jpg ======> D:/UAVTracking/ECO_testing_code/UAV/bad/7/img/0051.jpg\n",
      "D:/UAVTracking/ECO_testing_code/UAV/bad/7/img/751.jpg ======> D:/UAVTracking/ECO_testing_code/UAV/bad/7/img/0052.jpg\n",
      "D:/UAVTracking/ECO_testing_code/UAV/bad/7/img/752.jpg ======> D:/UAVTracking/ECO_testing_code/UAV/bad/7/img/0053.jpg\n",
      "D:/UAVTracking/ECO_testing_code/UAV/bad/7/img/753.jpg ======> D:/UAVTracking/ECO_testing_code/UAV/bad/7/img/0054.jpg\n",
      "D:/UAVTracking/ECO_testing_code/UAV/bad/7/img/754.jpg ======> D:/UAVTracking/ECO_testing_code/UAV/bad/7/img/0055.jpg\n",
      "D:/UAVTracking/ECO_testing_code/UAV/bad/7/img/755.jpg ======> D:/UAVTracking/ECO_testing_code/UAV/bad/7/img/0056.jpg\n",
      "D:/UAVTracking/ECO_testing_code/UAV/bad/7/img/756.jpg ======> D:/UAVTracking/ECO_testing_code/UAV/bad/7/img/0057.jpg\n",
      "D:/UAVTracking/ECO_testing_code/UAV/bad/7/img/757.jpg ======> D:/UAVTracking/ECO_testing_code/UAV/bad/7/img/0058.jpg\n",
      "D:/UAVTracking/ECO_testing_code/UAV/bad/7/img/758.jpg ======> D:/UAVTracking/ECO_testing_code/UAV/bad/7/img/0059.jpg\n",
      "D:/UAVTracking/ECO_testing_code/UAV/bad/7/img/759.jpg ======> D:/UAVTracking/ECO_testing_code/UAV/bad/7/img/0060.jpg\n",
      "D:/UAVTracking/ECO_testing_code/UAV/bad/7/img/760.jpg ======> D:/UAVTracking/ECO_testing_code/UAV/bad/7/img/0061.jpg\n",
      "D:/UAVTracking/ECO_testing_code/UAV/bad/7/img/761.jpg ======> D:/UAVTracking/ECO_testing_code/UAV/bad/7/img/0062.jpg\n",
      "D:/UAVTracking/ECO_testing_code/UAV/bad/7/img/762.jpg ======> D:/UAVTracking/ECO_testing_code/UAV/bad/7/img/0063.jpg\n",
      "D:/UAVTracking/ECO_testing_code/UAV/bad/7/img/763.jpg ======> D:/UAVTracking/ECO_testing_code/UAV/bad/7/img/0064.jpg\n",
      "D:/UAVTracking/ECO_testing_code/UAV/bad/7/img/764.jpg ======> D:/UAVTracking/ECO_testing_code/UAV/bad/7/img/0065.jpg\n",
      "D:/UAVTracking/ECO_testing_code/UAV/bad/7/img/765.jpg ======> D:/UAVTracking/ECO_testing_code/UAV/bad/7/img/0066.jpg\n",
      "D:/UAVTracking/ECO_testing_code/UAV/bad/7/img/766.jpg ======> D:/UAVTracking/ECO_testing_code/UAV/bad/7/img/0067.jpg\n",
      "D:/UAVTracking/ECO_testing_code/UAV/bad/7/img/767.jpg ======> D:/UAVTracking/ECO_testing_code/UAV/bad/7/img/0068.jpg\n",
      "D:/UAVTracking/ECO_testing_code/UAV/bad/7/img/768.jpg ======> D:/UAVTracking/ECO_testing_code/UAV/bad/7/img/0069.jpg\n",
      "D:/UAVTracking/ECO_testing_code/UAV/bad/7/img/769.jpg ======> D:/UAVTracking/ECO_testing_code/UAV/bad/7/img/0070.jpg\n",
      "D:/UAVTracking/ECO_testing_code/UAV/bad/7/img/770.jpg ======> D:/UAVTracking/ECO_testing_code/UAV/bad/7/img/0071.jpg\n",
      "D:/UAVTracking/ECO_testing_code/UAV/bad/7/img/771.jpg ======> D:/UAVTracking/ECO_testing_code/UAV/bad/7/img/0072.jpg\n",
      "D:/UAVTracking/ECO_testing_code/UAV/bad/7/img/772.jpg ======> D:/UAVTracking/ECO_testing_code/UAV/bad/7/img/0073.jpg\n",
      "D:/UAVTracking/ECO_testing_code/UAV/bad/7/img/773.jpg ======> D:/UAVTracking/ECO_testing_code/UAV/bad/7/img/0074.jpg\n",
      "D:/UAVTracking/ECO_testing_code/UAV/bad/7/img/774.jpg ======> D:/UAVTracking/ECO_testing_code/UAV/bad/7/img/0075.jpg\n",
      "D:/UAVTracking/ECO_testing_code/UAV/bad/7/img/775.jpg ======> D:/UAVTracking/ECO_testing_code/UAV/bad/7/img/0076.jpg\n",
      "D:/UAVTracking/ECO_testing_code/UAV/bad/7/img/776.jpg ======> D:/UAVTracking/ECO_testing_code/UAV/bad/7/img/0077.jpg\n",
      "D:/UAVTracking/ECO_testing_code/UAV/bad/7/img/777.jpg ======> D:/UAVTracking/ECO_testing_code/UAV/bad/7/img/0078.jpg\n",
      "D:/UAVTracking/ECO_testing_code/UAV/bad/7/img/778.jpg ======> D:/UAVTracking/ECO_testing_code/UAV/bad/7/img/0079.jpg\n",
      "D:/UAVTracking/ECO_testing_code/UAV/bad/7/img/779.jpg ======> D:/UAVTracking/ECO_testing_code/UAV/bad/7/img/0080.jpg\n",
      "D:/UAVTracking/ECO_testing_code/UAV/bad/7/img/780.jpg ======> D:/UAVTracking/ECO_testing_code/UAV/bad/7/img/0081.jpg\n",
      "D:/UAVTracking/ECO_testing_code/UAV/bad/7/img/781.jpg ======> D:/UAVTracking/ECO_testing_code/UAV/bad/7/img/0082.jpg\n",
      "D:/UAVTracking/ECO_testing_code/UAV/bad/7/img/782.jpg ======> D:/UAVTracking/ECO_testing_code/UAV/bad/7/img/0083.jpg\n",
      "D:/UAVTracking/ECO_testing_code/UAV/bad/7/img/783.jpg ======> D:/UAVTracking/ECO_testing_code/UAV/bad/7/img/0084.jpg\n",
      "D:/UAVTracking/ECO_testing_code/UAV/bad/7/img/784.jpg ======> D:/UAVTracking/ECO_testing_code/UAV/bad/7/img/0085.jpg\n",
      "D:/UAVTracking/ECO_testing_code/UAV/bad/7/img/785.jpg ======> D:/UAVTracking/ECO_testing_code/UAV/bad/7/img/0086.jpg\n",
      "D:/UAVTracking/ECO_testing_code/UAV/bad/7/img/786.jpg ======> D:/UAVTracking/ECO_testing_code/UAV/bad/7/img/0087.jpg\n",
      "D:/UAVTracking/ECO_testing_code/UAV/bad/7/img/787.jpg ======> D:/UAVTracking/ECO_testing_code/UAV/bad/7/img/0088.jpg\n",
      "D:/UAVTracking/ECO_testing_code/UAV/bad/7/img/788.jpg ======> D:/UAVTracking/ECO_testing_code/UAV/bad/7/img/0089.jpg\n",
      "D:/UAVTracking/ECO_testing_code/UAV/bad/7/img/789.jpg ======> D:/UAVTracking/ECO_testing_code/UAV/bad/7/img/0090.jpg\n",
      "D:/UAVTracking/ECO_testing_code/UAV/bad/7/img/790.jpg ======> D:/UAVTracking/ECO_testing_code/UAV/bad/7/img/0091.jpg\n",
      "D:/UAVTracking/ECO_testing_code/UAV/bad/7/img/791.jpg ======> D:/UAVTracking/ECO_testing_code/UAV/bad/7/img/0092.jpg\n",
      "D:/UAVTracking/ECO_testing_code/UAV/bad/7/img/792.jpg ======> D:/UAVTracking/ECO_testing_code/UAV/bad/7/img/0093.jpg\n",
      "D:/UAVTracking/ECO_testing_code/UAV/bad/7/img/793.jpg ======> D:/UAVTracking/ECO_testing_code/UAV/bad/7/img/0094.jpg\n",
      "D:/UAVTracking/ECO_testing_code/UAV/bad/7/img/794.jpg ======> D:/UAVTracking/ECO_testing_code/UAV/bad/7/img/0095.jpg\n",
      "D:/UAVTracking/ECO_testing_code/UAV/bad/7/img/795.jpg ======> D:/UAVTracking/ECO_testing_code/UAV/bad/7/img/0096.jpg\n",
      "D:/UAVTracking/ECO_testing_code/UAV/bad/7/img/796.jpg ======> D:/UAVTracking/ECO_testing_code/UAV/bad/7/img/0097.jpg\n",
      "D:/UAVTracking/ECO_testing_code/UAV/bad/7/img/797.jpg ======> D:/UAVTracking/ECO_testing_code/UAV/bad/7/img/0098.jpg\n",
      "D:/UAVTracking/ECO_testing_code/UAV/bad/7/img/798.jpg ======> D:/UAVTracking/ECO_testing_code/UAV/bad/7/img/0099.jpg\n",
      "D:/UAVTracking/ECO_testing_code/UAV/bad/7/img/799.jpg ======> D:/UAVTracking/ECO_testing_code/UAV/bad/7/img/0100.jpg\n"
     ]
    }
   ],
   "source": [
    "import os\n",
    "\n",
    "img_path=main_path+'img/'\n",
    "f=os.listdir(img_path)\n",
    "\n",
    "for i in range(len(f)):\n",
    "    #设置旧文件名（就是路径+文件名）\n",
    "    oldname=f[i]\n",
    "    \n",
    "    #设置新文件名\n",
    "    num=int(oldname[:-4])\n",
    "    \n",
    "    if i==0:\n",
    "        start_num=num\n",
    "    \n",
    "    newname=img_path+'%04d.jpg'%(num-start_num+1)\n",
    "    oldname=img_path+oldname\n",
    "    \n",
    "    \n",
    "    #用os模块中的rename方法对文件改名\n",
    "    os.rename(oldname,newname)\n",
    "    print(oldname,'======>',newname)"
   ]
  },
  {
   "cell_type": "code",
   "execution_count": null,
   "metadata": {
    "collapsed": true
   },
   "outputs": [],
   "source": []
  }
 ],
 "metadata": {
  "kernelspec": {
   "display_name": "Python 3",
   "language": "python",
   "name": "python3"
  },
  "language_info": {
   "codemirror_mode": {
    "name": "ipython",
    "version": 3
   },
   "file_extension": ".py",
   "mimetype": "text/x-python",
   "name": "python",
   "nbconvert_exporter": "python",
   "pygments_lexer": "ipython3",
   "version": "3.6.3"
  }
 },
 "nbformat": 4,
 "nbformat_minor": 2
}
